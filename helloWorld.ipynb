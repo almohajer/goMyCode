{
 "cells": [
  {
   "cell_type": "code",
   "execution_count": null,
   "id": "3da7e940",
   "metadata": {},
   "outputs": [],
   "source": [
    "print 'Welcome to python world! Let\'s start coding' "
   ]
  }
 ],
 "metadata": {
  "kernelspec": {
   "display_name": "Python 3",
   "language": "python",
   "name": "python3"
  },
  "language_info": {
   "name": ""
  }
 },
 "nbformat": 4,
 "nbformat_minor": 5
}
